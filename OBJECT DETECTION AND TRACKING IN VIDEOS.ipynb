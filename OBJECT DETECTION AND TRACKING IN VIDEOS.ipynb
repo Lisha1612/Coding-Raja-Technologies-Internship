{
 "cells": [
  {
   "cell_type": "code",
   "execution_count": null,
   "id": "445a89e9",
   "metadata": {},
   "outputs": [],
   "source": [
    "import numpy as np\n",
    "import cv2\n",
    "import matplotlib.pyplot as plt\n",
    "\n",
    "# read video\n",
    "cap = cv2.VideoCapture('/kaggle/input/pinotnoirgrapes/Grapes/Grapes/videos/grape_track_count.avi')\n",
    "\n",
    "ret, frame = cap.read()    \n",
    "plt.figure()\n",
    "plt.imshow(frame)"
   ]
  },
  {
   "cell_type": "code",
   "execution_count": null,
   "id": "d626d2c9",
   "metadata": {},
   "outputs": [],
   "source": [
    "#Code by Ducky https://www.kaggle.com/code/illgamhoduck/nfl-starter-eda\n",
    "\n",
    "ENV_DIR = '../input'\n",
    "DATA_DIR = f'{ENV_DIR}/pinotnoirgrapes/Grapes/Grapes/'"
   ]
  },
  {
   "cell_type": "code",
   "execution_count": null,
   "id": "ea67d26c",
   "metadata": {},
   "outputs": [],
   "source": [
    "os.listdir(DATA_DIR)\n"
   ]
  },
  {
   "cell_type": "code",
   "execution_count": null,
   "id": "6a793c5f",
   "metadata": {},
   "outputs": [],
   "source": [
    "import warnings\n",
    "warnings.filterwarnings(\"ignore\")\n",
    "\n",
    "import cv2\n",
    "from keras.applications.vgg16 import preprocess_input, decode_predictions\n",
    "import imageio\n",
    "from IPython.display import Image\n",
    "import matplotlib.image as mpimg"
   ]
  },
  {
   "cell_type": "code",
   "execution_count": null,
   "id": "ac4de941",
   "metadata": {},
   "outputs": [],
   "source": [
    "Video_Path = \"../input/pinotnoirgrapes/Grapes/Grapes/videos/grape_video_pan_in_out.mp4\""
   ]
  },
  {
   "cell_type": "code",
   "execution_count": null,
   "id": "0a12eba2",
   "metadata": {},
   "outputs": [],
   "source": [
    "Video_IMG_List = []\n",
    "\n",
    "Video_Cap = cv2.VideoCapture(Video_Path)\n",
    "\n",
    "\n",
    "while Video_Cap.isOpened():\n",
    "\n",
    "    \n",
    "    ret,frame = Video_Cap.read()\n",
    "    \n",
    "    if ret != True:\n",
    "        break\n",
    "        \n",
    "    if Video_Cap.isOpened():\n",
    "        Transformation_IMG = cv2.cvtColor(frame,cv2.COLOR_BGR2RGB)\n",
    "        Resize_IMG = cv2.resize(Transformation_IMG,(180,180))\n",
    "        Video_IMG_List.append(Resize_IMG)\n",
    "        \n",
    "        \n",
    "Video_Cap.release()\n"
   ]
  },
  {
   "cell_type": "code",
   "execution_count": null,
   "id": "658880e4",
   "metadata": {},
   "outputs": [],
   "source": [
    "print(np.shape(np.asarray(Video_IMG_List)))"
   ]
  },
  {
   "cell_type": "code",
   "execution_count": null,
   "id": "9f399456",
   "metadata": {},
   "outputs": [],
   "source": [
    "figure = plt.figure(figsize=(8,8))\n",
    "\n",
    "Pick_IMG = Video_IMG_List[75]#Original was 1 but the video starts Dark. Higher number shows more\n",
    "plt.xlabel(Pick_IMG.shape)\n",
    "plt.ylabel(Pick_IMG.size)\n",
    "plt.imshow(Pick_IMG);"
   ]
  },
  {
   "cell_type": "code",
   "execution_count": null,
   "id": "971d40a9",
   "metadata": {},
   "outputs": [],
   "source": [
    "figure = plt.figure(figsize=(8,8))\n",
    "\n",
    "Pick_IMG = Video_IMG_List[300]#Original is 1000, but we have 433, 180, 180, 3 \n",
    "plt.xlabel(Pick_IMG.shape)\n",
    "plt.ylabel(Pick_IMG.size)\n",
    "plt.imshow(Pick_IMG);\n"
   ]
  },
  {
   "cell_type": "code",
   "execution_count": null,
   "id": "a75bfe6f",
   "metadata": {},
   "outputs": [],
   "source": [
    "figure = plt.figure(figsize=(8,8))\n",
    "\n",
    "Pick_IMG = Video_IMG_List[310]#Original 3410 The higher, less image we display\n",
    "plt.xlabel(Pick_IMG.shape)\n",
    "plt.ylabel(Pick_IMG.size)\n",
    "plt.imshow(Pick_IMG);"
   ]
  },
  {
   "cell_type": "code",
   "execution_count": null,
   "id": "a3b98abe",
   "metadata": {},
   "outputs": [],
   "source": [
    "figure,axis = plt.subplots(4,4,figsize=(8,8))\n",
    "\n",
    "for i,ax in enumerate(axis.flat):\n",
    "    \n",
    "    IMG_From_List = Video_IMG_List[70]#Original was [i] though it was Dark. Higher number showed the images\n",
    "    ax.set_xlabel(IMG_From_List.shape)\n",
    "    ax.imshow(IMG_From_List)\n",
    "    \n",
    "plt.tight_layout()\n",
    "plt.show()"
   ]
  },
  {
   "cell_type": "code",
   "execution_count": null,
   "id": "7a52d7e4",
   "metadata": {},
   "outputs": [],
   "source": [
    "import PIL.Image"
   ]
  },
  {
   "cell_type": "code",
   "execution_count": null,
   "id": "8bad6624",
   "metadata": {},
   "outputs": [],
   "source": [
    "def get_frame_from_video(video_path, frame):\n",
    "    video_path = f\"{DATA_DIR}/videos/{video_path}\"\n",
    "    frame = frame - 1\n",
    "    \n",
    "    !ffmpeg \\\n",
    "        -hide_banner \\\n",
    "        -loglevel fatal \\\n",
    "        -nostats \\\n",
    "        -i $video_path -vf \"select=eq(n\\,$frame)\" -vframes 1 frame.jpg\n",
    "    \n",
    "    img = PIL.Image.open('frame.jpg')#StackOverflow https://stackoverflow.com/questions/10748822/img-image-openfp-attributeerror-class-image-has-no-attribute-open\n",
    "    os.remove('frame.jpg') \n",
    "    return img"
   ]
  },
  {
   "cell_type": "code",
   "execution_count": null,
   "id": "3c0ccd87",
   "metadata": {},
   "outputs": [],
   "source": [
    "get_frame_from_video('grape_video_pan_in_out.mp4', 75) "
   ]
  }
 ],
 "metadata": {
  "kernelspec": {
   "display_name": "Python 3 (ipykernel)",
   "language": "python",
   "name": "python3"
  },
  "language_info": {
   "codemirror_mode": {
    "name": "ipython",
    "version": 3
   },
   "file_extension": ".py",
   "mimetype": "text/x-python",
   "name": "python",
   "nbconvert_exporter": "python",
   "pygments_lexer": "ipython3",
   "version": "3.10.9"
  }
 },
 "nbformat": 4,
 "nbformat_minor": 5
}
